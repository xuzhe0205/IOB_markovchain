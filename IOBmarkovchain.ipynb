{
 "cells": [
  {
   "cell_type": "code",
   "execution_count": 95,
   "metadata": {},
   "outputs": [],
   "source": [
    "from collections import Counter, deque\n",
    "import random\n",
    "import pandas as pd\n",
    "%matplotlib inline \n",
    "import matplotlib.pyplot as plt\n",
    "from fractions import Fraction"
   ]
  },
  {
   "cell_type": "code",
   "execution_count": 96,
   "metadata": {},
   "outputs": [
    {
     "data": {
      "text/plain": [
       "['GO',\n",
       " 'R1',\n",
       " 'Car',\n",
       " 'R2',\n",
       " 'R3',\n",
       " 'R4',\n",
       " 'R5',\n",
       " 'R6',\n",
       " 'R7',\n",
       " 'ZombieVines',\n",
       " 'Swamp',\n",
       " 'R8',\n",
       " 'R9',\n",
       " 'R10',\n",
       " 'R11',\n",
       " 'R12',\n",
       " 'Car',\n",
       " 'GarlicGarden',\n",
       " 'R13',\n",
       " 'R14',\n",
       " 'R15',\n",
       " 'R16',\n",
       " 'R17',\n",
       " 'R18',\n",
       " 'Swamp',\n",
       " 'R19',\n",
       " 'R20',\n",
       " 'ZombieVines',\n",
       " 'R21',\n",
       " 'Car',\n",
       " 'R22',\n",
       " 'R23',\n",
       " 'R24',\n",
       " 'R25',\n",
       " 'R26',\n",
       " 'R27',\n",
       " 'R28',\n",
       " 'Swamp',\n",
       " 'GarlicGarden',\n",
       " 'R29']"
      ]
     },
     "execution_count": 96,
     "metadata": {},
     "output_type": "execute_result"
    }
   ],
   "source": [
    "\n",
    "board = \"\"\"GO   R1 Car R2  R3 R4 R5  R6 R7 ZombieVines\n",
    "           Swamp R8 R9  R10  R11 R12 Car  GarlicGarden R13 R14 \n",
    "           R15   R16 R17 R18  Swamp R19 R20  ZombieVines  R21 Car \n",
    "           R22  R23 R24  R25 R26 R27 R28 Swamp  GarlicGarden R29\"\"\".split()\n",
    "board"
   ]
  },
  {
   "cell_type": "code",
   "execution_count": 97,
   "metadata": {},
   "outputs": [],
   "source": [
    "def list_duplicates_of(seq,item):\n",
    "    start_at = -1\n",
    "    locs = []\n",
    "    while True:\n",
    "        try:\n",
    "            loc = seq.index(item,start_at+1)\n",
    "        except ValueError:\n",
    "            break\n",
    "        else:\n",
    "            locs.append(loc)\n",
    "            start_at = loc\n",
    "    return locs"
   ]
  },
  {
   "cell_type": "code",
   "execution_count": 98,
   "metadata": {},
   "outputs": [
    {
     "data": {
      "text/plain": [
       "'R23'"
      ]
     },
     "execution_count": 98,
     "metadata": {},
     "output_type": "execute_result"
    }
   ],
   "source": [
    "cars_i = list_duplicates_of(board,'Car')\n",
    "cars_i\n",
    "board[31]"
   ]
  },
  {
   "cell_type": "code",
   "execution_count": 113,
   "metadata": {},
   "outputs": [],
   "source": [
    "\n",
    "def IOB(steps):\n",
    "    \"\"\"Simulate given number of steps of Monopoly game, \n",
    "    yielding the number of the current square after each step.\"\"\"\n",
    "    goto(0) # start at GO\n",
    "    cars_i = list_duplicates_of(board,'Car')\n",
    "    \n",
    "    for _ in range(steps):\n",
    "        die = random.randint(1, 6) # roll die\n",
    "        if isinstance(die, int):\n",
    "            goto(here + die)  # here is a global variable, so gets initialized to 0. It's modulo-40\n",
    "        else:\n",
    "            goto(here)\n",
    "        if (board[here] == 'Car'):\n",
    "            goto(here + 2)\n",
    "        elif (board[here] == 'Swamp'):\n",
    "            goto(here)\n",
    "        yield here  # yield ensures IOB() returns a *list* of positions. Also, allows to resume where we left off       \n",
    "\n",
    "def goto(cell):\n",
    "    \"Update the global variable 'here' to be certain cell.\"\n",
    "    global here\n",
    "    here = cell % len(board)"
   ]
  },
  {
   "cell_type": "code",
   "execution_count": 114,
   "metadata": {},
   "outputs": [],
   "source": [
    "results = list(IOB(400000))"
   ]
  },
  {
   "cell_type": "code",
   "execution_count": 115,
   "metadata": {},
   "outputs": [
    {
     "data": {
      "text/html": [
       "<div>\n",
       "<style scoped>\n",
       "    .dataframe tbody tr th:only-of-type {\n",
       "        vertical-align: middle;\n",
       "    }\n",
       "\n",
       "    .dataframe tbody tr th {\n",
       "        vertical-align: top;\n",
       "    }\n",
       "\n",
       "    .dataframe thead th {\n",
       "        text-align: right;\n",
       "    }\n",
       "</style>\n",
       "<table border=\"1\" class=\"dataframe\">\n",
       "  <thead>\n",
       "    <tr style=\"text-align: right;\">\n",
       "      <th></th>\n",
       "      <th>0</th>\n",
       "      <th>1</th>\n",
       "      <th>2</th>\n",
       "      <th>3</th>\n",
       "      <th>4</th>\n",
       "      <th>5</th>\n",
       "      <th>6</th>\n",
       "      <th>7</th>\n",
       "      <th>8</th>\n",
       "      <th>9</th>\n",
       "      <th>...</th>\n",
       "      <th>90</th>\n",
       "      <th>91</th>\n",
       "      <th>92</th>\n",
       "      <th>93</th>\n",
       "      <th>94</th>\n",
       "      <th>95</th>\n",
       "      <th>96</th>\n",
       "      <th>97</th>\n",
       "      <th>98</th>\n",
       "      <th>99</th>\n",
       "    </tr>\n",
       "  </thead>\n",
       "  <tbody>\n",
       "    <tr>\n",
       "      <th>0</th>\n",
       "      <td>1</td>\n",
       "      <td>4</td>\n",
       "      <td>5</td>\n",
       "      <td>9</td>\n",
       "      <td>14</td>\n",
       "      <td>17</td>\n",
       "      <td>19</td>\n",
       "      <td>22</td>\n",
       "      <td>23</td>\n",
       "      <td>27</td>\n",
       "      <td>...</td>\n",
       "      <td>19</td>\n",
       "      <td>20</td>\n",
       "      <td>26</td>\n",
       "      <td>32</td>\n",
       "      <td>33</td>\n",
       "      <td>37</td>\n",
       "      <td>3</td>\n",
       "      <td>5</td>\n",
       "      <td>8</td>\n",
       "      <td>11</td>\n",
       "    </tr>\n",
       "  </tbody>\n",
       "</table>\n",
       "<p>1 rows × 100 columns</p>\n",
       "</div>"
      ],
      "text/plain": [
       "   0   1   2   3   4   5   6   7   8   9   ...  90  91  92  93  94  95  96  \\\n",
       "0   1   4   5   9  14  17  19  22  23  27  ...  19  20  26  32  33  37   3   \n",
       "\n",
       "   97  98  99  \n",
       "0   5   8  11  \n",
       "\n",
       "[1 rows x 100 columns]"
      ]
     },
     "execution_count": 115,
     "metadata": {},
     "output_type": "execute_result"
    }
   ],
   "source": [
    "\n",
    "pd.DataFrame(results[0:100]).T"
   ]
  },
  {
   "cell_type": "code",
   "execution_count": 116,
   "metadata": {
    "scrolled": true
   },
   "outputs": [
    {
     "data": {
      "image/png": "[encoded data removed]",
      "text/plain": [
       "<Figure size 432x288 with 1 Axes>"
      ]
     },
     "metadata": {
      "needs_background": "light"
     },
     "output_type": "display_data"
    }
   ],
   "source": [
    "\n",
    "plt.hist(results, bins=40)\n",
    "avg = len(results) / 40\n",
    "plt.plot([0, 39], [avg, avg], 'r--');"
   ]
  },
  {
   "cell_type": "code",
   "execution_count": 118,
   "metadata": {},
   "outputs": [
    {
     "data": {
      "text/plain": [
       "'R3'"
      ]
     },
     "execution_count": 118,
     "metadata": {},
     "output_type": "execute_result"
    }
   ],
   "source": [
    "board[4]"
   ]
  },
  {
   "cell_type": "code",
   "execution_count": 119,
   "metadata": {},
   "outputs": [],
   "source": [
    "\n",
    "def P(pred, dst): \n",
    "    \"Proba that pred is true, given the dst pdf\"\n",
    "    return sum(dst[e] for e in dst if pred(e))\n",
    "\n",
    "class ProbabilityDistribution(dict):\n",
    "    \"A Probability Distribution; an {outcome: probability} mapping where probabilities sum to 1.\"\n",
    "    def __init__(self, mapping=(), **kwargs):\n",
    "        self.update(mapping, **kwargs)\n",
    "        total = sum(self.values())\n",
    "        if isinstance(total, int): \n",
    "            total = Fraction(total, 1)\n",
    "        for key in self: # Make probabilities sum to 1.\n",
    "            self[key] = self[key] / total\n",
    "            \n",
    "    def __and__(self, pred): # Call this method by writing ProbabilityDistribution & predicate\n",
    "        \"New ProbabilityDistribution, for outcomes of this ProbabilityDistribution for which pred is true.\"\n",
    "        return ProbabilityDistribution({e:self[e] for e in self if pred(e)})\n",
    "\n",
    "def Uniform(out): return ProbabilityDistribution({e: 1 for e in out})\n",
    "\n",
    "def joint(X, Y, sep=''):\n",
    "    \"joint pdf of two independent pdfs. Entries of the shape {x+sep+y: P(x)*P(y)}\"\n",
    "    return ProbabilityDistribution({x + sep + y: X[x] * Y[y]\n",
    "                    for x in X\n",
    "                    for y in Y})"
   ]
  },
  {
   "cell_type": "code",
   "execution_count": null,
   "metadata": {},
   "outputs": [],
   "source": []
  },
  {
   "cell_type": "code",
   "execution_count": 120,
   "metadata": {
    "scrolled": true
   },
   "outputs": [
    {
     "data": {
      "text/plain": [
       "{'R1': Fraction(10337, 400000),\n",
       " 'R3': Fraction(18837, 400000),\n",
       " 'R4': Fraction(2459, 100000),\n",
       " 'ZombieVines': Fraction(21211, 400000),\n",
       " 'R11': Fraction(10633, 400000),\n",
       " 'GarlicGarden': Fraction(1893, 40000),\n",
       " 'R14': Fraction(983, 40000),\n",
       " 'R17': Fraction(4807, 200000),\n",
       " 'R18': Fraction(5441, 200000),\n",
       " 'R22': Fraction(8789, 400000),\n",
       " 'R26': Fraction(2427, 100000),\n",
       " 'R28': Fraction(2749, 100000),\n",
       " 'Swamp': Fraction(8599, 100000),\n",
       " 'GO': Fraction(5103, 200000),\n",
       " 'R2': Fraction(8923, 400000),\n",
       " 'R7': Fraction(9469, 400000),\n",
       " 'R8': Fraction(5093, 200000),\n",
       " 'R10': Fraction(10451, 400000),\n",
       " 'R13': Fraction(18729, 400000),\n",
       " 'R21': Fraction(2093, 80000),\n",
       " 'R25': Fraction(9689, 400000),\n",
       " 'R6': Fraction(2377, 100000),\n",
       " 'R15': Fraction(4879, 200000),\n",
       " 'R19': Fraction(2043, 80000),\n",
       " 'R20': Fraction(10291, 400000),\n",
       " 'R23': Fraction(18891, 400000),\n",
       " 'R27': Fraction(943, 40000),\n",
       " 'R12': Fraction(5277, 200000),\n",
       " 'R16': Fraction(9627, 400000),\n",
       " 'R24': Fraction(9781, 400000),\n",
       " 'R29': Fraction(2519, 100000),\n",
       " 'R9': Fraction(5001, 200000),\n",
       " 'R5': Fraction(39, 1600)}"
      ]
     },
     "execution_count": 120,
     "metadata": {},
     "output_type": "execute_result"
    }
   ],
   "source": [
    "probD = ProbabilityDistribution(Counter(board[i] for i in results))\n",
    "probD"
   ]
  },
  {
   "cell_type": "markdown",
   "metadata": {},
   "source": [
    "Probability of landing on each cell on the game board, notice that player has the most probability of landing on cell 13, 14 (Road 10 & 11) "
   ]
  },
  {
   "cell_type": "code",
   "execution_count": 112,
   "metadata": {},
   "outputs": [
    {
     "data": {
      "text/plain": [
       "[<matplotlib.lines.Line2D at 0x11f5c69b0>]"
      ]
     },
     "execution_count": 112,
     "metadata": {},
     "output_type": "execute_result"
    },
    {
     "data": {
      "image/png": "[encoded data removed]",
      "text/plain": [
       "<Figure size 432x288 with 1 Axes>"
      ]
     },
     "metadata": {
      "needs_background": "light"
     },
     "output_type": "display_data"
    }
   ],
   "source": [
    "v = [];\n",
    "for f in probD.values():\n",
    "    v.append(float(f))\n",
    "v\n",
    "plt.plot(v)"
   ]
  },
  {
   "cell_type": "code",
   "execution_count": 111,
   "metadata": {},
   "outputs": [
    {
     "data": {
      "text/plain": [
       "'R10'"
      ]
     },
     "execution_count": 111,
     "metadata": {},
     "output_type": "execute_result"
    }
   ],
   "source": []
  },
  {
   "cell_type": "code",
   "execution_count": null,
   "metadata": {},
   "outputs": [],
   "source": []
  }
 ],
 "metadata": {
  "kernelspec": {
   "display_name": "Python 3",
   "language": "python",
   "name": "python3"
  },
  "language_info": {
   "codemirror_mode": {
    "name": "ipython",
    "version": 3
   },
   "file_extension": ".py",
   "mimetype": "text/x-python",
   "name": "python",
   "nbconvert_exporter": "python",
   "pygments_lexer": "ipython3",
   "version": "3.6.8"
  }
 },
 "nbformat": 4,
 "nbformat_minor": 2
}
